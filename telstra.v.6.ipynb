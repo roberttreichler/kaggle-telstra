{
 "cells": [
  {
   "cell_type": "markdown",
   "metadata": {},
   "source": [
    "*********************************\n",
    "      Import Data + Packages\n",
    "*********************************"
   ]
  },
  {
   "cell_type": "code",
   "execution_count": 1,
   "metadata": {
    "collapsed": true
   },
   "outputs": [],
   "source": [
    "#create working directory\n",
    "import os#Miscellaneous operating system interfaces\n",
    "os.chdir(r'C:\\\\Users\\\\rtreichl\\\\Documents\\\\competitions\\\\telstra')  #working directory\n",
    "\n",
    "#%matplotlib inline allows graphics to show below each cell (or graphics in line)\n",
    "# for some reason, %matplotlib inline won't work if comments are made in the same cell"
   ]
  },
  {
   "cell_type": "code",
   "execution_count": 2,
   "metadata": {
    "collapsed": false
   },
   "outputs": [],
   "source": [
    "%matplotlib inline"
   ]
  },
  {
   "cell_type": "code",
   "execution_count": 3,
   "metadata": {
    "collapsed": false
   },
   "outputs": [],
   "source": [
    "import pandas as pd #munging and wrangling\n",
    "import numpy as np  #for arrays, etc.\n",
    "import matplotlib.pyplot as plt #graphs/plots\n",
    "import operator\n",
    "import pylab \n",
    "import scipy.stats as stats\n",
    "\n",
    "#Model Selection -> Cross Validation\n",
    "from sklearn import cross_validation\n",
    "from sklearn.cross_validation import train_test_split\n",
    "from sklearn import preprocessing\n",
    "from sklearn.grid_search import RandomizedSearchCV\n",
    "from sklearn.grid_search import GridSearchCV\n",
    "\n",
    "#Model Selection -> Metrics\n",
    "from sklearn.metrics import log_loss\n",
    "\n",
    "#xgboost\n",
    "import xgboost as xgb #xgboost\n",
    "\n",
    "#random forest\n",
    "from sklearn.ensemble import RandomForestClassifier  # random forests\n",
    "\n",
    "#bagging\n",
    "from sklearn.ensemble import BaggingClassifier\n",
    "\n",
    "#ada boost\n",
    "from sklearn.ensemble import AdaBoostClassifier\n",
    "\n",
    "#stochastic gradient descent\n",
    "from sklearn.linear_model import SGDClassifier\n",
    "\n",
    "#Support Vector Classification\n",
    "from sklearn.svm import SVC"
   ]
  },
  {
   "cell_type": "code",
   "execution_count": 4,
   "metadata": {
    "collapsed": false
   },
   "outputs": [],
   "source": [
    "#use dataframes for EDA\n",
    "train = pd.read_csv('train.csv')\n",
    "test  = pd.read_csv('test.csv')\n",
    "resource_type=pd.read_csv('resource_type.csv')\n",
    "event_type=pd.read_csv('event_type.csv')\n",
    "log_feature=pd.read_csv('log_feature.csv')\n",
    "severity_type=pd.read_csv('severity_type.csv')"
   ]
  },
  {
   "cell_type": "code",
   "execution_count": 5,
   "metadata": {
    "collapsed": false
   },
   "outputs": [],
   "source": [
    "############################################\n",
    "#                 severity_type\n",
    "############################################\n",
    "#merge with training set\n",
    "train_df=pd.merge(train,severity_type,on='id')\n",
    "\n",
    "#merge with test set\n",
    "test_df=pd.merge(test,severity_type,on='id')\n",
    "\n"
   ]
  },
  {
   "cell_type": "code",
   "execution_count": 6,
   "metadata": {
    "collapsed": false
   },
   "outputs": [],
   "source": [
    "#  Encoding categorical features\n",
    "\n",
    "lbl = preprocessing.LabelEncoder()\n",
    "lbl.fit(train_df['severity_type'])\n",
    "train_df['severity_type'] = lbl.transform(train_df['severity_type'])\n",
    "test_df['severity_type']  = lbl.transform(test_df['severity_type'])\n"
   ]
  },
  {
   "cell_type": "code",
   "execution_count": 7,
   "metadata": {
    "collapsed": false
   },
   "outputs": [
    {
     "name": "stdout",
     "output_type": "stream",
     "text": [
      "(7381, 14)\n",
      "(11171, 13)\n"
     ]
    }
   ],
   "source": [
    "######################################\n",
    "#             resource_type\n",
    "######################################\n",
    "\n",
    "#group by id and create variables for each categorical value\n",
    "resource_type_df=pd.pivot_table(resource_type,index=['id'], columns=['resource_type'],values=['resource_type'],\n",
    "                                aggfunc=np.size,fill_value=0)\n",
    "resource_type_df=resource_type_df.reset_index()\n",
    "\n",
    "#list of columns to fix\n",
    "resource_type_list=['resource_type 1', 'resource_type 10', 'resource_type 2','resource_type 3', 'resource_type 4',\n",
    "                    'resource_type 5','resource_type 6', 'resource_type 7', 'resource_type 8','resource_type 9']\n",
    "#convert to binary\n",
    "for rtl in resource_type_list:\n",
    "    resource_type_df[rtl]=np.where(resource_type_df[rtl] == 2.0,1.0,0.0)\n",
    "    \n",
    "#merge with training set\n",
    "train_df=pd.merge(train_df,resource_type_df,on='id')\n",
    "print(train_df.shape)\n",
    "\n",
    "#merge with test set\n",
    "test_df=pd.merge(test_df,resource_type_df,on='id')\n",
    "print(test_df.shape)\n",
    "\n",
    "#remove item from memory\n",
    "del resource_type_df\n",
    "del resource_type_list"
   ]
  },
  {
   "cell_type": "code",
   "execution_count": 8,
   "metadata": {
    "collapsed": false,
    "scrolled": true
   },
   "outputs": [
    {
     "name": "stdout",
     "output_type": "stream",
     "text": [
      "1.0\n",
      "0.0\n",
      "4.0\n",
      "0.0\n",
      "4.0\n",
      "0.0\n",
      "1.0\n",
      "0.0\n",
      "3.0\n",
      "1.0\n",
      "1.0\n",
      "3.0\n",
      "3.0\n",
      "10.0\n",
      "1.0\n",
      "6.0\n",
      "1.0\n",
      "1.0\n",
      "1.0\n",
      "1.0\n",
      "1.0\n",
      "4.0\n",
      "(7381, 57)\n",
      "(11171, 56)\n"
     ]
    }
   ],
   "source": [
    "####################################\n",
    "#             event_type\n",
    "####################################\n",
    "\n",
    "\n",
    "#group by id and create variables for each categorical value\n",
    "event_type_df=pd.pivot_table(event_type,index=['id'], columns=['event_type'],values=['event_type'],\n",
    "                                aggfunc=np.size,fill_value=0)\n",
    "event_type_df=event_type_df.reset_index()\n",
    "\n",
    "#list of columns to fix\n",
    "event_type_list=['event_type 1','event_type 10','event_type 11','event_type 12','event_type 13','event_type 14',\n",
    "                 'event_type 15','event_type 17','event_type 18','event_type 19','event_type 2','event_type 20',\n",
    "                 'event_type 21','event_type 22','event_type 23','event_type 24','event_type 25','event_type 26',\n",
    "                 'event_type 27','event_type 28','event_type 29','event_type 3','event_type 30','event_type 31',\n",
    "                 'event_type 32','event_type 33','event_type 34','event_type 35','event_type 36','event_type 37',\n",
    "                 'event_type 38','event_type 39','event_type 4','event_type 40','event_type 41','event_type 42',\n",
    "                 'event_type 43','event_type 44','event_type 45','event_type 46','event_type 47','event_type 48',\n",
    "                 'event_type 49','event_type 5','event_type 50','event_type 51','event_type 52','event_type 53',\n",
    "                 'event_type 54','event_type 6','event_type 7','event_type 8','event_type 9',]\n",
    "\n",
    "#convert to binary\n",
    "for rtl in event_type_list:\n",
    "    event_type_df[rtl]=np.where(event_type_df[rtl] == 2.0,1.0,0.0)\n",
    "    \n",
    "#merge with training set\n",
    "train_df=pd.merge(train_df,event_type_df,on='id')\n",
    "\n",
    "#merge with test set\n",
    "test_df=pd.merge(test_df,event_type_df,on='id')\n",
    "\n",
    "#delete variables where no events as part of training set or test variables not part of training\n",
    "delete_event_list=['event_type 1','event_type 17','event_type 19','event_type 33','event_type 37','event_type 4',\n",
    "                   'event_type 41','event_type 52','event_type 51','event_type 48','event_type 25',]\n",
    "\n",
    "#flag row id if event type variable to be deleted has a value greater than zero\n",
    "train_df['rowid_event_flag']=0\n",
    "for re in delete_event_list:\n",
    "    try:\n",
    "        train_df['rowid_event_flag']=np.where(train_df[re]>0,1,train_df['rowid_event_flag'])\n",
    "        print(train_df[re].sum())\n",
    "    except:\n",
    "        pass\n",
    "\n",
    "test_df['rowid_event_flag']=0\n",
    "for re in delete_event_list:\n",
    "    try:\n",
    "        test_df['rowid_event_flag']=np.where(test_df[re]>0,1,test_df['rowid_event_flag'])\n",
    "        print(test_df[re].sum())\n",
    "    except:\n",
    "        pass\n",
    "\n",
    "\n",
    "\n",
    "for del_e in delete_event_list:\n",
    "    train_df=train_df.drop(del_e,axis=1)\n",
    "    test_df=test_df.drop(del_e,axis=1)\n",
    "\n",
    "print(train_df.shape)\n",
    "\n",
    "print(test_df.shape)\n",
    "\n",
    "\n",
    "#remove from memory\n",
    "del event_type_df\n",
    "del event_type_list\n",
    "del delete_event_list"
   ]
  },
  {
   "cell_type": "code",
   "execution_count": 9,
   "metadata": {
    "collapsed": false
   },
   "outputs": [],
   "source": [
    "#############################\n",
    "#         location\n",
    "#############################\n",
    "\n",
    "#create number of location indicator variable\n",
    "location_temp_train=train.groupby('location').count().reset_index()\n",
    "location_temp_train=location_temp_train.drop('id',axis=1)\n",
    "location_temp_train.rename(columns={'location':'location', 'fault_severity':'location_count'},inplace=True)\n",
    "location_temp_train['location_count']=location_temp_train['location_count'].astype(float)\n",
    "#location_temp_train['location_count']=np.log(location_temp_train['location_count']+1)\n",
    "\n",
    "location_temp_test=test.groupby('location').count().reset_index()\n",
    "location_temp_test.rename(columns={'id':'location_count'},inplace=True)\n",
    "location_temp_test['location_count']=location_temp_test['location_count'].astype(float)\n",
    "#location_temp_test['location_count']=np.log(location_temp_test['location_count']+1)\n",
    "\n",
    "train_df = pd.merge(train_df,location_temp_train,on='location')\n",
    "test_df  =  pd.merge(test_df,location_temp_test,on='location') \n",
    "\n",
    "\n",
    "#dummy variables for location - Train\n",
    "train_df=pd.concat([train_df,pd.get_dummies(train_df['location'])], axis=1)\n",
    "\n",
    "#drop location\n",
    "train_df=train_df.drop(['location'],axis=1)\n",
    "\n",
    "#dummy variables for location - test\n",
    "test_df=pd.concat([test_df,pd.get_dummies(test_df['location'])], axis=1)\n",
    "\n",
    "#drop location\n",
    "test_df=test_df.drop(['location'],axis=1)\n",
    "\n",
    "#remove from memory\n",
    "del location_temp_train\n",
    "del location_temp_test"
   ]
  },
  {
   "cell_type": "code",
   "execution_count": 10,
   "metadata": {
    "collapsed": false
   },
   "outputs": [
    {
     "name": "stdout",
     "output_type": "stream",
     "text": [
      "(7381, 900)\n",
      "(11171, 899)\n"
     ]
    }
   ],
   "source": [
    "#delete location dummy variables where not represented by both train and test\n",
    "\n",
    "location_drop_list=['location 1001','location 1003','location 1004','location 1012','location 1028','location 1039',\n",
    "                    'location 1040','location 1043','location 105','location 1057','location 1085','location 109',\n",
    "                    'location 11','location 111','location 1114','location 1123','location 1124','location 121',\n",
    "                    'location 129','location 132','location 134','location 138','location 142','location 160',\n",
    "                    'location 164','location 168','location 174','location 176','location 178','location 185',\n",
    "                    'location 191','location 192','location 201','location 207','location 209','location 212',\n",
    "                    'location 216','location 217','location 219','location 227','location 233','location 24',\n",
    "                    'location 25','location 261','location 265','location 275','location 279','location 28',\n",
    "                    'location 29','location 295','location 306','location 308','location 31','location 316',\n",
    "                    'location 327','location 340','location 341','location 351','location 361','location 364',\n",
    "                    'location 366','location 368','location 372','location 377','location 383','location 387',\n",
    "                    'location 397','location 40','location 41','location 411','location 412','location 42',\n",
    "                    'location 422','location 428','location 43','location 431','location 433','location 438',\n",
    "                    'location 449','location 452','location 454','location 456','location 458','location 48',\n",
    "                    'location 482','location 486','location 502','location 510','location 513','location 517',\n",
    "                    'location 52','location 539','location 54','location 542','location 545','location 55',\n",
    "                    'location 552','location 553','location 554','location 567','location 569','location 571',\n",
    "                    'location 572','location 574','location 575','location 58','location 580','location 581',\n",
    "                    'location 585','location 586','location 590','location 591','location 593','location 594',\n",
    "                    'location 598','location 605','location 606','location 61','location 612','location 620',\n",
    "                    'location 626','location 630','location 631','location 634','location 636','location 64',\n",
    "                    'location 647','location 650','location 656','location 66','location 669','location 677',\n",
    "                    'location 685','location 688','location 689','location 69','location 698','location 70',\n",
    "                    'location 701','location 703','location 71','location 720','location 725','location 728',\n",
    "                    'location 729','location 730','location 739','location 743','location 747','location 749',\n",
    "                    'location 75','location 750','location 751','location 753','location 761','location 77',\n",
    "                    'location 770','location 776','location 780','location 781','location 784','location 787',\n",
    "                    'location 791','location 80','location 801','location 828','location 832','location 833',\n",
    "                    'location 843','location 858','location 861','location 862','location 868','location 873',\n",
    "                    'location 900','location 907','location 908','location 910','location 913','location 920',\n",
    "                    'location 927','location 935','location 94','location 940','location 952','location 954',\n",
    "                    'location 96','location 965','location 970','location 98','location 982','location 985',\n",
    "                    'location 986','location 988','location 992','location 993','location 997','location 1016',\n",
    "                    'location 1027','location 1070','location 1087','location 1110','location 1126','location 113',\n",
    "                    'location 180','location 188','location 196','location 214','location 225','location 241',\n",
    "                    'location 247','location 250','location 254','location 259','location 267','location 277',\n",
    "                    'location 285','location 287','location 291','location 293','location 304','location 319',\n",
    "                    'location 329','location 331','location 333','location 339','location 346','location 355',\n",
    "                    'location 357','location 362','location 37','location 389','location 391','location 399',\n",
    "                    'location 407','location 423','location 424','location 487','location 5','location 511',\n",
    "                    'location 512','location 516','location 523','location 524','location 529','location 531',\n",
    "                    'location 537','location 548','location 551','location 555','location 556','location 559',\n",
    "                    'location 56','location 560','location 562','location 57','location 573','location 578',\n",
    "                    'location 588','location 597','location 614','location 617','location 621','location 624',\n",
    "                    'location 633','location 635','location 65','location 67','location 694','location 715',\n",
    "                    'location 716','location 717','location 718','location 748','location 766','location 785',\n",
    "                    'location 813','location 847','location 866','location 888','location 928','location 953',\n",
    "                    'location 958','location 969',]\n",
    "\n",
    "\n",
    "#flag row id if location variable to be deleted has a value greater than zero\n",
    "train_df['rowid_location_flag']=0\n",
    "for re in location_drop_list:\n",
    "    try:\n",
    "        train_df['rowid_location_flag']=np.where(train_df[re]>0,1,train_df['rowid_location_flag'])\n",
    "    except:\n",
    "        pass\n",
    "\n",
    "test_df['rowid_location_flag']=0\n",
    "for re in location_drop_list:\n",
    "    try:\n",
    "        test_df['rowid_location_flag']=np.where(test_df[re]>0,1,test_df['rowid_location_flag'])\n",
    "    except:\n",
    "        pass\n",
    "\n",
    "\n",
    "\n",
    "\n",
    "for ldl in location_drop_list:\n",
    "    try:\n",
    "        train_df=train_df.drop(ldl,axis=1)\n",
    "    except:\n",
    "        pass\n",
    "    \n",
    "for ldl in location_drop_list:\n",
    "    try:\n",
    "        test_df=test_df.drop(ldl,axis=1)\n",
    "    except:\n",
    "        pass\n",
    "    \n",
    "print(train_df.shape)\n",
    "    \n",
    "print(test_df.shape)\n",
    "\n",
    "#remove from memory\n",
    "del location_drop_list"
   ]
  },
  {
   "cell_type": "code",
   "execution_count": 11,
   "metadata": {
    "collapsed": false
   },
   "outputs": [],
   "source": [
    "#################################\n",
    "#          log_feature\n",
    "#################################\n",
    "\n",
    "#transform Log_feature to natural log to put on same scale and reduce skewness\n",
    "#use base 10 to make numbers as small as possible\n",
    "log_feature['imp_volume']=log_feature['volume']"
   ]
  },
  {
   "cell_type": "code",
   "execution_count": 12,
   "metadata": {
    "collapsed": false
   },
   "outputs": [
    {
     "data": {
      "text/plain": [
       "<matplotlib.text.Text at 0xa9c8d68>"
      ]
     },
     "execution_count": 12,
     "metadata": {},
     "output_type": "execute_result"
    },
    {
     "data": {
      "image/png": "[encoded data removed]",
      "text/plain": [
       "<matplotlib.figure.Figure at 0xb00f3c8>"
      ]
     },
     "metadata": {},
     "output_type": "display_data"
    }
   ],
   "source": [
    "stats.probplot(log_feature['imp_volume'], dist=\"norm\", plot=pylab)\n",
    "plt.xticks(range(-5,5))\n",
    "plt.title('QQPlot of Log Feature Volume')"
   ]
  },
  {
   "cell_type": "code",
   "execution_count": 13,
   "metadata": {
    "collapsed": true
   },
   "outputs": [],
   "source": [
    "log_feature['imp_volume']=np.where(log_feature['imp_volume']>535,535,log_feature['imp_volume'])\n",
    "#log_feature['imp_volume']=np.log10(log_feature['imp_volume']+1)"
   ]
  },
  {
   "cell_type": "code",
   "execution_count": 14,
   "metadata": {
    "collapsed": false
   },
   "outputs": [],
   "source": [
    "#group by id and create variables for each categorical value\n",
    "log_feature_df0=pd.pivot_table(log_feature,index=['id'], columns=['log_feature'],values=['imp_volume'],\n",
    "                                aggfunc=np.sum,fill_value=0)\n",
    "#save for future use\n",
    "log_feature_df0.to_csv(\"log_feature_df0.csv\")\n",
    "\n",
    "#remove from memory\n",
    "del log_feature_df0"
   ]
  },
  {
   "cell_type": "code",
   "execution_count": 15,
   "metadata": {
    "collapsed": true
   },
   "outputs": [],
   "source": [
    "#reimport log feature\n",
    "log_feature_df = pd.read_csv('log_feature_df1.csv')"
   ]
  },
  {
   "cell_type": "code",
   "execution_count": 16,
   "metadata": {
    "collapsed": true
   },
   "outputs": [],
   "source": [
    "delete_feature_list=[\n",
    "'feature 100',\n",
    "'feature 102',\n",
    "'feature 110',\n",
    "'feature 112',\n",
    "'feature 113',\n",
    "'feature 116',\n",
    "'feature 119',\n",
    "'feature 12',\n",
    "'feature 120',\n",
    "'feature 121',\n",
    "'feature 123',\n",
    "'feature 124',\n",
    "'feature 125',\n",
    "'feature 126',\n",
    "'feature 128',\n",
    "'feature 129',\n",
    "'feature 13',\n",
    "'feature 130',\n",
    "'feature 138',\n",
    "'feature 139',\n",
    "'feature 14',\n",
    "'feature 140',\n",
    "'feature 142',\n",
    "'feature 143',\n",
    "'feature 146',\n",
    "'feature 147',\n",
    "'feature 148',\n",
    "'feature 151',\n",
    "'feature 16',\n",
    "'feature 164',\n",
    "'feature 17',\n",
    "'feature 173',\n",
    "'feature 175',\n",
    "'feature 177',\n",
    "'feature 180',\n",
    "'feature 184',\n",
    "'feature 185',\n",
    "'feature 189',\n",
    "'feature 19',\n",
    "'feature 192',\n",
    "'feature 194',\n",
    "'feature 199',\n",
    "'feature 208',\n",
    "'feature 21',\n",
    "'feature 210',\n",
    "'feature 213',\n",
    "'feature 214',\n",
    "'feature 216',\n",
    "'feature 226',\n",
    "'feature 23',\n",
    "'feature 24',\n",
    "'feature 241',\n",
    "'feature 242',\n",
    "'feature 243',\n",
    "'feature 246',\n",
    "'feature 247',\n",
    "'feature 248',\n",
    "'feature 249',\n",
    "'feature 250',\n",
    "'feature 251',\n",
    "'feature 252',\n",
    "'feature 253',\n",
    "'feature 255',\n",
    "'feature 256',\n",
    "'feature 257',\n",
    "'feature 258',\n",
    "'feature 259',\n",
    "'feature 260',\n",
    "'feature 261',\n",
    "'feature 262',\n",
    "'feature 263',\n",
    "'feature 264',\n",
    "'feature 265',\n",
    "'feature 266',\n",
    "'feature 269',\n",
    "'feature 270',\n",
    "'feature 271',\n",
    "'feature 272',\n",
    "'feature 274',\n",
    "'feature 275',\n",
    "'feature 278',\n",
    "'feature 28',\n",
    "'feature 281',\n",
    "'feature 282',\n",
    "'feature 286',\n",
    "'feature 287',\n",
    "'feature 294',\n",
    "'feature 295',\n",
    "'feature 296',\n",
    "'feature 298',\n",
    "'feature 299',\n",
    "'feature 3',\n",
    "'feature 300',\n",
    "'feature 31',\n",
    "'feature 32',\n",
    "'feature 320',\n",
    "'feature 321',\n",
    "'feature 322',\n",
    "'feature 323',\n",
    "'feature 324',\n",
    "'feature 325',\n",
    "'feature 326',\n",
    "'feature 327',\n",
    "'feature 329',\n",
    "'feature 33',\n",
    "'feature 331',\n",
    "'feature 332',\n",
    "'feature 333',\n",
    "'feature 334',\n",
    "'feature 335',\n",
    "'feature 336',\n",
    "'feature 337',\n",
    "'feature 338',\n",
    "'feature 339',\n",
    "'feature 34',\n",
    "'feature 340',\n",
    "'feature 341',\n",
    "'feature 342',\n",
    "'feature 343',\n",
    "'feature 344',\n",
    "'feature 346',\n",
    "'feature 347',\n",
    "'feature 350',\n",
    "'feature 351',\n",
    "'feature 352',\n",
    "'feature 355',\n",
    "'feature 356',\n",
    "'feature 358',\n",
    "'feature 36',\n",
    "'feature 363',\n",
    "'feature 364',\n",
    "'feature 367',\n",
    "'feature 371',\n",
    "'feature 372',\n",
    "'feature 373',\n",
    "'feature 379',\n",
    "'feature 38',\n",
    "'feature 380',\n",
    "'feature 381',\n",
    "'feature 382',\n",
    "'feature 383',\n",
    "'feature 385',\n",
    "'feature 386',\n",
    "'feature 4',\n",
    "'feature 43',\n",
    "'feature 48',\n",
    "'feature 5',\n",
    "'feature 57',\n",
    "'feature 58',\n",
    "'feature 59',\n",
    "'feature 6',\n",
    "'feature 67',\n",
    "'feature 7',\n",
    "'feature 72',\n",
    "'feature 88',\n",
    "'feature 89',\n",
    "'feature 9',\n",
    "'feature 91',\n",
    "'feature 92',\n",
    "'feature 93',\n",
    "'feature 96',\n",
    "'feature 97',\n",
    "'feature 98',\n",
    "'feature 90',\n",
    "'feature 79',\n",
    "'feature 77',\n",
    "'feature 330',\n",
    "'feature 328',\n",
    "'feature 297',\n",
    "'feature 292',\n",
    "'feature 29',\n",
    "'feature 288',\n",
    "'feature 27',\n",
    "'feature 267',\n",
    "'feature 26',\n",
    "'feature 254',\n",
    "'feature 245',\n",
    "'feature 244',\n",
    "'feature 237',\n",
    "'feature 215',\n",
    "'feature 174',\n",
    "'feature 159',\n",
    "'feature 158',\n",
    "'feature 144',\n",
    "'feature 137',\n",
    "'feature 122',\n",
    "'feature 115',\n",
    "'feature 114',\n",
    "'feature 106',\n",
    "'feature 100_flag',\n",
    "'feature 102_flag',\n",
    "'feature 110_flag',\n",
    "'feature 112_flag',\n",
    "'feature 113_flag',\n",
    "'feature 116_flag',\n",
    "'feature 119_flag',\n",
    "'feature 12_flag',\n",
    "'feature 120_flag',\n",
    "'feature 121_flag',\n",
    "'feature 123_flag',\n",
    "'feature 124_flag',\n",
    "'feature 125_flag',\n",
    "'feature 126_flag',\n",
    "'feature 128_flag',\n",
    "'feature 129_flag',\n",
    "'feature 13_flag',\n",
    "'feature 130_flag',\n",
    "'feature 138_flag',\n",
    "'feature 139_flag',\n",
    "'feature 14_flag',\n",
    "'feature 140_flag',\n",
    "'feature 142_flag',\n",
    "'feature 143_flag',\n",
    "'feature 146_flag',\n",
    "'feature 147_flag',\n",
    "'feature 148_flag',\n",
    "'feature 151_flag',\n",
    "'feature 16_flag',\n",
    "'feature 164_flag',\n",
    "'feature 17_flag',\n",
    "'feature 173_flag',\n",
    "'feature 175_flag',\n",
    "'feature 177_flag',\n",
    "'feature 180_flag',\n",
    "'feature 184_flag',\n",
    "'feature 185_flag',\n",
    "'feature 189_flag',\n",
    "'feature 19_flag',\n",
    "'feature 192_flag',\n",
    "'feature 194_flag',\n",
    "'feature 199_flag',\n",
    "'feature 208_flag',\n",
    "'feature 21_flag',\n",
    "'feature 210_flag',\n",
    "'feature 213_flag',\n",
    "'feature 214_flag',\n",
    "'feature 216_flag',\n",
    "'feature 226_flag',\n",
    "'feature 23_flag',\n",
    "'feature 24_flag',\n",
    "'feature 241_flag',\n",
    "'feature 242_flag',\n",
    "'feature 243_flag',\n",
    "'feature 246_flag',\n",
    "'feature 247_flag',\n",
    "'feature 248_flag',\n",
    "'feature 249_flag',\n",
    "'feature 250_flag',\n",
    "'feature 251_flag',\n",
    "'feature 252_flag',\n",
    "'feature 253_flag',\n",
    "'feature 255_flag',\n",
    "'feature 256_flag',\n",
    "'feature 257_flag',\n",
    "'feature 258_flag',\n",
    "'feature 259_flag',\n",
    "'feature 260_flag',\n",
    "'feature 261_flag',\n",
    "'feature 262_flag',\n",
    "'feature 263_flag',\n",
    "'feature 264_flag',\n",
    "'feature 265_flag',\n",
    "'feature 266_flag',\n",
    "'feature 269_flag',\n",
    "'feature 270_flag',\n",
    "'feature 271_flag',\n",
    "'feature 272_flag',\n",
    "'feature 274_flag',\n",
    "'feature 275_flag',\n",
    "'feature 278_flag',\n",
    "'feature 28_flag',\n",
    "'feature 281_flag',\n",
    "'feature 282_flag',\n",
    "'feature 286_flag',\n",
    "'feature 287_flag',\n",
    "'feature 294_flag',\n",
    "'feature 295_flag',\n",
    "'feature 296_flag',\n",
    "'feature 298_flag',\n",
    "'feature 299_flag',\n",
    "'feature 3_flag',\n",
    "'feature 300_flag',\n",
    "'feature 31_flag',\n",
    "'feature 32_flag',\n",
    "'feature 320_flag',\n",
    "'feature 321_flag',\n",
    "'feature 322_flag',\n",
    "'feature 323_flag',\n",
    "'feature 324_flag',\n",
    "'feature 325_flag',\n",
    "'feature 326_flag',\n",
    "'feature 327_flag',\n",
    "'feature 329_flag',\n",
    "'feature 33_flag',\n",
    "'feature 331_flag',\n",
    "'feature 332_flag',\n",
    "'feature 333_flag',\n",
    "'feature 334_flag',\n",
    "'feature 335_flag',\n",
    "'feature 336_flag',\n",
    "'feature 337_flag',\n",
    "'feature 338_flag',\n",
    "'feature 339_flag',\n",
    "'feature 34_flag',\n",
    "'feature 340_flag',\n",
    "'feature 341_flag',\n",
    "'feature 342_flag',\n",
    "'feature 343_flag',\n",
    "'feature 344_flag',\n",
    "'feature 346_flag',\n",
    "'feature 347_flag',\n",
    "'feature 350_flag',\n",
    "'feature 351_flag',\n",
    "'feature 352_flag',\n",
    "'feature 355_flag',\n",
    "'feature 356_flag',\n",
    "'feature 358_flag',\n",
    "'feature 36_flag',\n",
    "'feature 363_flag',\n",
    "'feature 364_flag',\n",
    "'feature 367_flag',\n",
    "'feature 371_flag',\n",
    "'feature 372_flag',\n",
    "'feature 373_flag',\n",
    "'feature 379_flag',\n",
    "'feature 38_flag',\n",
    "'feature 380_flag',\n",
    "'feature 381_flag',\n",
    "'feature 382_flag',\n",
    "'feature 383_flag',\n",
    "'feature 385_flag',\n",
    "'feature 386_flag',\n",
    "'feature 4_flag',\n",
    "'feature 43_flag',\n",
    "'feature 48_flag',\n",
    "'feature 5_flag',\n",
    "'feature 57_flag',\n",
    "'feature 58_flag',\n",
    "'feature 59_flag',\n",
    "'feature 6_flag',\n",
    "'feature 67_flag',\n",
    "'feature 7_flag',\n",
    "'feature 72_flag',\n",
    "'feature 88_flag',\n",
    "'feature 89_flag',\n",
    "'feature 9_flag',\n",
    "'feature 91_flag',\n",
    "'feature 92_flag',\n",
    "'feature 93_flag',\n",
    "'feature 96_flag',\n",
    "'feature 97_flag',\n",
    "'feature 98_flag',\n",
    "'feature 90_flag',\n",
    "'feature 79_flag',\n",
    "'feature 77_flag',\n",
    "'feature 330_flag',\n",
    "'feature 328_flag',\n",
    "'feature 297_flag',\n",
    "'feature 292_flag',\n",
    "'feature 29_flag',\n",
    "'feature 288_flag',\n",
    "'feature 27_flag',\n",
    "'feature 267_flag',\n",
    "'feature 26_flag',\n",
    "'feature 254_flag',\n",
    "'feature 245_flag',\n",
    "'feature 244_flag',\n",
    "'feature 237_flag',\n",
    "'feature 215_flag',\n",
    "'feature 174_flag',\n",
    "'feature 159_flag',\n",
    "'feature 158_flag',\n",
    "'feature 144_flag',\n",
    "'feature 137_flag',\n",
    "'feature 122_flag',\n",
    "'feature 115_flag',\n",
    "'feature 114_flag',\n",
    "'feature 106_flag',\n",
    "]"
   ]
  },
  {
   "cell_type": "code",
   "execution_count": 17,
   "metadata": {
    "collapsed": false
   },
   "outputs": [
    {
     "name": "stdout",
     "output_type": "stream",
     "text": [
      "(7381, 1296)\n",
      "(11171, 1295)\n"
     ]
    }
   ],
   "source": [
    "#merge with training set\n",
    "train_df=pd.merge(train_df,log_feature_df,on='id')\n",
    "\n",
    "\n",
    "#merge with test set\n",
    "test_df=pd.merge(test_df,log_feature_df,on='id')\n",
    "\n",
    "\n",
    "#flag row id if feature variable to be deleted has a value greater than zero\n",
    "train_df['rowid_feature_flag']=0\n",
    "for re in delete_feature_list:\n",
    "    try:\n",
    "        train_df['rowid_feature_flag']=np.where(train_df[re]>0,1,train_df['rowid_feature_flag'])\n",
    "    except:\n",
    "        pass\n",
    "\n",
    "test_df['rowid_feature_flag']=0\n",
    "for re in delete_feature_list:\n",
    "    try:\n",
    "        test_df['rowid_feature_flag']=np.where(test_df[re]>0,1,test_df['rowid_feature_flag'])\n",
    "    except:\n",
    "        pass\n",
    "\n",
    "train_df['rowid_feature_volume']=0\n",
    "for re in delete_feature_list:\n",
    "    try:\n",
    "        train_df['rowid_feature_volume']=train_df[re]+train_df['rowid_feature_volume']\n",
    "    except:\n",
    "        pass\n",
    "\n",
    "test_df['rowid_feature_volume']=0\n",
    "for re in delete_feature_list:\n",
    "    try:\n",
    "        test_df['rowid_feature_volume']=test_df[re]+test_df['rowid_feature_volume']\n",
    "    except:\n",
    "        pass    \n",
    "    \n",
    "#delete feature in test but not in train\n",
    "for dfl in delete_feature_list:\n",
    "    try:\n",
    "        train_df=train_df.drop(dfl,axis=1)\n",
    "    except:\n",
    "        pass\n",
    "\n",
    "print(train_df.shape)\n",
    "\n",
    "\n",
    "#delete feature in test but not in train\n",
    "for dfl in delete_feature_list:\n",
    "    try:\n",
    "        test_df=test_df.drop(dfl,axis=1)\n",
    "    except:\n",
    "        pass\n",
    "\n",
    "\n",
    "print(test_df.shape)\n",
    "\n",
    "#remove from memory\n",
    "del log_feature_df\n",
    "del delete_feature_list"
   ]
  },
  {
   "cell_type": "markdown",
   "metadata": {},
   "source": [
    "******************************\n",
    "Additional Indicator Variables\n",
    "******************************"
   ]
  },
  {
   "cell_type": "code",
   "execution_count": 18,
   "metadata": {
    "collapsed": false
   },
   "outputs": [],
   "source": [
    "#number of resources per id\n",
    "resource_type_count=resource_type.groupby('id').count().reset_index()\n",
    "train_df=pd.merge(train_df,resource_type_count,on='id')\n",
    "test_df =pd.merge(test_df, resource_type_count,on='id')\n",
    "\n",
    "#remove from memory\n",
    "del resource_type"
   ]
  },
  {
   "cell_type": "code",
   "execution_count": 19,
   "metadata": {
    "collapsed": false
   },
   "outputs": [],
   "source": [
    "#number of events per id\n",
    "event_type_count=event_type.groupby('id').count().reset_index()\n",
    "train_df=pd.merge(train_df,event_type_count,on='id')\n",
    "test_df =pd.merge(test_df, event_type_count,on='id')\n",
    "\n",
    "#remove from memory\n",
    "del event_type"
   ]
  },
  {
   "cell_type": "code",
   "execution_count": 20,
   "metadata": {
    "collapsed": true
   },
   "outputs": [],
   "source": [
    "#number of log features per id\n",
    "log_feature_count=log_feature.groupby('id').count().reset_index()\n",
    "train_df=pd.merge(train_df,log_feature_count,on='id')\n",
    "test_df =pd.merge(test_df, log_feature_count,on='id')\n",
    "train_df=train_df.drop('volume', axis=1)\n",
    "train_df=train_df.drop('imp_volume',axis=1)\n",
    "test_df=test_df.drop('volume', axis=1)\n",
    "test_df=test_df.drop('imp_volume', axis=1)"
   ]
  },
  {
   "cell_type": "code",
   "execution_count": 21,
   "metadata": {
    "collapsed": false
   },
   "outputs": [],
   "source": [
    "#total volume of features by id\n",
    "log_feature_volume_sum=log_feature.groupby('id')['volume'].sum().reset_index()\n",
    "train_df=pd.merge(train_df,log_feature_volume_sum,on='id')\n",
    "test_df =pd.merge(test_df, log_feature_volume_sum,on='id')\n",
    "\n",
    "#remove from memory\n",
    "del log_feature"
   ]
  },
  {
   "cell_type": "code",
   "execution_count": 22,
   "metadata": {
    "collapsed": true
   },
   "outputs": [],
   "source": [
    "#add 1 to severity to account for encoding\n",
    "\n",
    "#severity code * locaiton count\n",
    "train_df['severity_location'] = (train_df['severity_type']+1) * train_df['location_count']\n",
    "test_df['severity_location']  = (test_df['severity_type']+1)  * test_df['location_count']\n"
   ]
  },
  {
   "cell_type": "code",
   "execution_count": 23,
   "metadata": {
    "collapsed": true
   },
   "outputs": [],
   "source": [
    "#severity code * resources count\n",
    "train_df['severity_resources'] = (train_df['severity_type']+1) * train_df['resource_type']\n",
    "test_df['severity_resources']  = (test_df['severity_type']+1 ) * test_df['resource_type']\n"
   ]
  },
  {
   "cell_type": "code",
   "execution_count": 24,
   "metadata": {
    "collapsed": true
   },
   "outputs": [],
   "source": [
    "#severity code * events count\n",
    "train_df['severity_events'] = (train_df['severity_type']+1 ) * train_df['event_type']\n",
    "test_df['severity_events']  = (test_df['severity_type'] +1 ) * test_df['event_type']\n"
   ]
  },
  {
   "cell_type": "code",
   "execution_count": 25,
   "metadata": {
    "collapsed": true
   },
   "outputs": [],
   "source": [
    "#severity code * features count\n",
    "train_df['severity_feature_count'] = (train_df['severity_type']+1)  * train_df['log_feature']\n",
    "test_df['severity_feature_count']  = (test_df['severity_type']+1)  * test_df['log_feature']\n"
   ]
  },
  {
   "cell_type": "code",
   "execution_count": 26,
   "metadata": {
    "collapsed": false
   },
   "outputs": [],
   "source": [
    "#severity code * features volume\n",
    "train_df['severity_volume'] = (train_df['severity_type']+1) *  train_df['volume']\n",
    "test_df['severity_volume']  = (test_df['severity_type']+1)  *  test_df['volume']"
   ]
  },
  {
   "cell_type": "code",
   "execution_count": 27,
   "metadata": {
    "collapsed": true
   },
   "outputs": [],
   "source": [
    "#location count * resources count\n",
    "train_df['location_resources'] = train_df['location_count'] * train_df['resource_type']\n",
    "test_df['location_resources']  = test_df['location_count']  * test_df['resource_type']"
   ]
  },
  {
   "cell_type": "code",
   "execution_count": 28,
   "metadata": {
    "collapsed": true
   },
   "outputs": [],
   "source": [
    "#location count * events count\n",
    "train_df['location_events'] = train_df['location_count'] * train_df['event_type']\n",
    "test_df['location_events']  = test_df['location_count']  * test_df['event_type']"
   ]
  },
  {
   "cell_type": "code",
   "execution_count": 29,
   "metadata": {
    "collapsed": true
   },
   "outputs": [],
   "source": [
    "#location count * features count\n",
    "train_df['location_feature_count'] = train_df['location_count'] * train_df['log_feature']\n",
    "test_df['location_feature_count']  = test_df['location_count']  * test_df['log_feature']"
   ]
  },
  {
   "cell_type": "code",
   "execution_count": 30,
   "metadata": {
    "collapsed": true
   },
   "outputs": [],
   "source": [
    "#location count * features volume\n",
    "train_df['location_volume'] = train_df['location_count'] * train_df['volume']\n",
    "test_df['location_volume']  = test_df['location_count']  * test_df['volume']"
   ]
  },
  {
   "cell_type": "code",
   "execution_count": 31,
   "metadata": {
    "collapsed": true
   },
   "outputs": [],
   "source": [
    "#resources count * events count\n",
    "train_df['resource_events'] = train_df['resource_type'] * train_df['event_type']\n",
    "test_df['resource_events']  = test_df['resource_type']  * test_df['event_type']"
   ]
  },
  {
   "cell_type": "code",
   "execution_count": 32,
   "metadata": {
    "collapsed": true
   },
   "outputs": [],
   "source": [
    "#resources count * features count\n",
    "train_df['resource_feature_count'] = train_df['resource_type'] * train_df['log_feature']\n",
    "test_df['resource_feature_count']  = test_df['resource_type']  * test_df['log_feature']"
   ]
  },
  {
   "cell_type": "code",
   "execution_count": 33,
   "metadata": {
    "collapsed": true
   },
   "outputs": [],
   "source": [
    "#resources count * features volume\n",
    "train_df['resources_volume'] = train_df['resource_type'] * train_df['volume']\n",
    "test_df['resources_volume']  = test_df['resource_type']  * test_df['volume']"
   ]
  },
  {
   "cell_type": "code",
   "execution_count": 34,
   "metadata": {
    "collapsed": true
   },
   "outputs": [],
   "source": [
    "#events count * features count\n",
    "train_df['event_feature_count'] =  train_df['event_type'] * train_df['log_feature']\n",
    "test_df['event_feature_count']  =  test_df['event_type']  * test_df['log_feature']"
   ]
  },
  {
   "cell_type": "code",
   "execution_count": 35,
   "metadata": {
    "collapsed": true
   },
   "outputs": [],
   "source": [
    "#events count * features volume\n",
    "train_df['events_volume'] = train_df['event_type'] * train_df['volume']\n",
    "test_df['events_volume']  = test_df['event_type']  * test_df['volume']"
   ]
  },
  {
   "cell_type": "code",
   "execution_count": 36,
   "metadata": {
    "collapsed": true
   },
   "outputs": [],
   "source": [
    "#features count * features volume\n",
    "#features index\n",
    "\n",
    "train_df['feature_index'] = train_df['log_feature'] * train_df['volume']\n",
    "test_df['feature_index']  = test_df['log_feature']  * test_df['volume']"
   ]
  },
  {
   "cell_type": "code",
   "execution_count": 37,
   "metadata": {
    "collapsed": false
   },
   "outputs": [],
   "source": [
    "#tranform \n",
    "transform_log10_list=[\n",
    "'location_volume',\n",
    "'feature_index',\n",
    "'events_volume',\n",
    "'severity_volume',\n",
    "'volume',\n",
    "'resources_volume',\n",
    "'location_feature_count',\n",
    "'feature 101',\n",
    "'feature 103',\n",
    "'feature 51',\n",
    "'feature 54',\n",
    "'feature 56',\n",
    "'location_events',\n",
    "'feature 82',\n",
    "'feature 109',\n",
    "'feature 172',\n",
    "'feature 80',\n",
    "'feature 111',\n",
    "'feature 235',\n",
    "'feature 315',\n",
    "'feature 73',\n",
    "'severity_location',\n",
    "'feature 284',\n",
    "'feature 285',\n",
    "'feature 232',\n",
    "'feature 105',\n",
    "'feature 312',\n",
    "'rowid_feature_volume',\n",
    "'feature 368',\n",
    "'feature 376',\n",
    "'feature 71',\n",
    "'location_resources',\n",
    "'feature 202',\n",
    "'feature 370',\n",
    "'feature 170',\n",
    "'feature 75',\n",
    "'feature 81',\n",
    "'event_feature_count',\n",
    "'feature 195',\n",
    "'feature 68',\n",
    "'feature 201',\n",
    "'feature 289',\n",
    "'feature 375',\n",
    "'feature 313',\n",
    "'feature 378',\n",
    "'feature 229',\n",
    "'feature 314',\n",
    "'feature 233',\n",
    "'feature 283',\n",
    "'feature 179',\n",
    "'feature 193',\n",
    "'feature 309',\n",
    "'feature 291',\n",
    "'location_count',\n",
    "'feature 234',\n",
    "'feature 308',\n",
    "'feature 228',\n",
    "'feature 203',\n",
    "'resource_feature_count',\n",
    "'feature 310',\n",
    "'feature 227',\n",
    "'feature 307',\n",
    "'feature 70',\n",
    "'feature 55',\n",
    "'severity_feature_count',\n",
    "'feature 87',\n",
    "'feature 52',\n",
    "'feature 160',\n",
    "'feature 230',\n",
    "'feature 191',\n",
    "'resource_events',\n",
    "'feature 107',\n",
    "'feature 306',\n",
    "'feature 44',\n",
    "'feature 171',\n",
    "'feature 196',\n",
    "'feature 290',\n",
    "'feature 74',\n",
    "'feature 76',\n",
    "'feature 108',\n",
    "'feature 134',\n",
    "'feature 25',\n",
    "'feature 293',\n",
    "'log_feature',\n",
    "'feature 167',\n",
    "'feature 219',\n",
    "'feature 209',\n",
    "'severity_events',\n",
    "'feature 211',\n",
    "'feature 94',\n",
    "'feature 10',\n",
    "'feature 316',\n",
    "'feature 145',\n",
    "'feature 20',\n",
    "'feature 305',\n",
    "'feature 360',\n",
    "'severity_resources',\n",
    "'feature 197',\n",
    "'feature 362',\n",
    "'feature 104',\n",
    "'feature 155',\n",
    "'feature 223',\n",
    "'feature 240',\n",
    "'feature 311',\n",
    "'feature 127',\n",
    "'feature 168',\n",
    "'feature 317',\n",
    "'feature 47',\n",
    "'event_type',             \n",
    "]\n",
    "\n",
    "for trans in transform_log10_list:\n",
    "    try:\n",
    "        train_df[trans]=np.log10(train_df[trans]+1)\n",
    "    except:\n",
    "        pass\n",
    "\n",
    "\n",
    "for trans in transform_log10_list:\n",
    "    try:\n",
    "        test_df[trans]=np.log10(test_df[trans]+1)\n",
    "    except:\n",
    "        pass\n",
    "\n",
    "    \n",
    "transform_ln_list=[\n",
    "'feature 153',\n",
    "'feature 198',\n",
    "'feature 212',\n",
    "'feature 222',\n",
    "'feature 231',\n",
    "'feature 236',\n",
    "'feature 273',\n",
    "'feature 345',\n",
    "'feature 141',\n",
    "'feature 157',\n",
    "'feature 163',\n",
    "'feature 280',\n",
    "'feature 301',\n",
    "'feature 318',\n",
    "'feature 39',\n",
    "'feature 42',\n",
    "'feature 46',\n",
    "'feature 63',\n",
    "'feature 66',\n",
    "'feature 8',\n",
    "'feature 133',\n",
    "'feature 149',\n",
    "'feature 15',\n",
    "'feature 206',\n",
    "'feature 239',\n",
    "'feature 304',\n",
    "'feature 359',\n",
    "'feature 361',\n",
    "'feature 85',\n",
    "'feature 118',\n",
    "'feature 150',\n",
    "'feature 152',\n",
    "'feature 188',\n",
    "'feature 218',\n",
    "'feature 377',\n",
    "'feature 65',\n",
    "'resource_type',\n",
    "'severity_type',\n",
    "'feature 132',\n",
    "'feature 154',\n",
    "'feature 162',\n",
    "'feature 183',\n",
    "'feature 187',\n",
    "'feature 217',\n",
    "'feature 276',\n",
    "'feature 277',\n",
    "'feature 302',\n",
    "'feature 303',\n",
    "'feature 349',\n",
    "'feature 35',\n",
    "'feature 353',\n",
    "'feature 354',\n",
    "'feature 365',\n",
    "'feature 369',\n",
    "'feature 374',\n",
    "'feature 117',\n",
    "'feature 135',\n",
    "'feature 181',\n",
    "'feature 220',\n",
    "'feature 221',\n",
    "'feature 53',\n",
    "'feature 95',\n",
    "'feature 1',\n",
    "'feature 136',\n",
    "'feature 165',\n",
    "'feature 169',\n",
    "'feature 176',\n",
    "'feature 18',\n",
    "'feature 182',\n",
    "'feature 190',\n",
    "'feature 2',\n",
    "'feature 200',\n",
    "'feature 204',\n",
    "'feature 207',\n",
    "'feature 224',\n",
    "'feature 268',\n",
    "'feature 30',\n",
    "'feature 357',\n",
    "'feature 366',\n",
    "'feature 384',\n",
    "'feature 40',\n",
    "'feature 60',\n",
    "'feature 69',\n",
    "'feature 78',\n",
    "'feature 83',\n",
    "]\n",
    "\n",
    "for trans in transform_ln_list:\n",
    "    try:\n",
    "        train_df[trans]=np.log(train_df[trans]+1)\n",
    "    except:\n",
    "        pass\n",
    "\n",
    "\n",
    "for trans in transform_ln_list:\n",
    "    try:\n",
    "        test_df[trans]=np.log(test_df[trans]+1)\n",
    "    except:\n",
    "        pass"
   ]
  },
  {
   "cell_type": "markdown",
   "metadata": {
    "collapsed": false
   },
   "source": [
    "************************************\n",
    "create hold out sets\n",
    "************************************"
   ]
  },
  {
   "cell_type": "code",
   "execution_count": 38,
   "metadata": {
    "collapsed": false
   },
   "outputs": [
    {
     "name": "stdout",
     "output_type": "stream",
     "text": [
      "(7381, 1315)\n",
      "(11171, 1314)\n"
     ]
    }
   ],
   "source": [
    "print(train_df.shape)\n",
    "print(test_df.shape)\n",
    "\n",
    "#remove from memory\n",
    "del train"
   ]
  },
  {
   "cell_type": "code",
   "execution_count": 39,
   "metadata": {
    "collapsed": false
   },
   "outputs": [],
   "source": [
    "#train and set sets\n",
    "x_train=train_df.ix[:,2:1315]\n",
    "y_train=train_df.ix[:,1]\n",
    "x_test = test_df.ix[:,1:1314]"
   ]
  },
  {
   "cell_type": "code",
   "execution_count": 40,
   "metadata": {
    "collapsed": false
   },
   "outputs": [],
   "source": [
    "#training and test sets for cross validation\n",
    "x_traincv, x_testcv, y_traincv, y_testcv = cross_validation.train_test_split(x_train,y_train, test_size=0.31, random_state=0)\n"
   ]
  },
  {
   "cell_type": "markdown",
   "metadata": {},
   "source": [
    "*********************************\n",
    "XGBoost\n",
    "*********************************"
   ]
  },
  {
   "cell_type": "code",
   "execution_count": null,
   "metadata": {
    "collapsed": false
   },
   "outputs": [],
   "source": [
    "#identify appropriate number of boost rounds\n",
    "\n",
    "def xg_paraml(label,x_train,y_train,x_test,y_test):\n",
    "\n",
    "    for bb in range(1925,1965,1):\n",
    "        \n",
    "        xgb_train_data = xgb.DMatrix(x_train, np.array(y_train ))\n",
    "        xgb_test_data=xgb.DMatrix(x_test)\n",
    "        params={'objective':'multi:softprob','eval_metric' : 'mlogloss','num_class':3, 'eta': 0.01 ,\n",
    "                        'subsample':1.0, \n",
    "                #'max_depth':6, 'colsample_bytree':0.3\n",
    "               }\n",
    "        xgb_estimator = xgb.train(params, xgb_train_data, num_boost_round= bb)\n",
    "        pred=xgb_estimator.predict(xgb_train_data)\n",
    "        pred_test=xgb_estimator.predict(xgb_test_data)\n",
    "        logloss_tr=log_loss(y_train, pred)\n",
    "        logloss_te=log_loss(y_test, pred_test)\n",
    "        print(label+ str(logloss_tr) + '   '+\n",
    "              str(logloss_te) +\n",
    "              ' boost rounds '+str(bb))\n",
    "\n",
    "\n",
    "xg_paraml(label=' parameter ', x_train=x_traincv,y_train=y_traincv,x_test=x_testcv,y_test=y_testcv)\n",
    "\n",
    "#using default parameters\n",
    "#parameter 0.334595851928   0.518347343099 boost rounds 2087"
   ]
  },
  {
   "cell_type": "code",
   "execution_count": null,
   "metadata": {
    "collapsed": false
   },
   "outputs": [],
   "source": [
    "#identify optimal parameters\n",
    "\n",
    "def xg_paraml(label,x_train,y_train,x_test,y_test):\n",
    "    cb_list=[0.25,0.26,0.27,0.28,0.29,0.3,0.31,0.32,0.33,0.34,0.35,0.36,0.37,\n",
    "             0.38,0.39,0.40,0.41,0.42,0.43,0.44,0.45,0.46,0.47,0.48,0.49,0.50,0.51,0.52,0.53,0.54,0.55,0.56,0.56,0.58,0.59,\n",
    "            0.60,0.61,0.62,0.63,0.64,0.65]\n",
    "    \n",
    "    for md in range(5,6,1):\n",
    "        for cb in cb_list:\n",
    "                    xgb_train_data = xgb.DMatrix(x_train, np.array(y_train ))\n",
    "                    xgb_test_data=xgb.DMatrix(x_test)\n",
    "                    params={'objective':'multi:softprob','eval_metric' : 'mlogloss','num_class':3, 'eta': 0.01 ,\n",
    "                        'subsample':1.0, 'max_depth':md, 'colsample_bytree':cb,'nthreads':-1}\n",
    "                    xgb_estimator = xgb.train(params, xgb_train_data, num_boost_round= 1954)\n",
    "                    pred=xgb_estimator.predict(xgb_train_data)\n",
    "                    pred_test=xgb_estimator.predict(xgb_test_data)\n",
    "                    logloss_tr=log_loss(y_train, pred)\n",
    "                    logloss_te=log_loss(y_test, pred_test)\n",
    "                    print(label+ str(logloss_tr) + '   '+str(logloss_te) +#' subsample '+str(ss)+\n",
    "                          ' max_depth '+\n",
    "                      str(md)+' colsample '+str(cb))\n",
    "\n",
    "\n",
    "xg_paraml(label=' parameter ', x_train=x_traincv,y_train=y_traincv,x_test=x_testcv,y_test=y_testcv)\n",
    "\n",
    "\n",
    "#using default parameters\n",
    "# parameter 0.336061649709   0.511398634098 max_depth 6 colsample 0.37"
   ]
  },
  {
   "cell_type": "code",
   "execution_count": null,
   "metadata": {
    "collapsed": false
   },
   "outputs": [],
   "source": [
    "#final model with submission file\n",
    "#def xg_sub(label,x_train,y_train,x_test,parameters):\n",
    "    #xgb parameters\n",
    "    \n",
    "params = {'objective':'multi:softprob','eval_metric' : 'mlogloss', 'num_class':3,'eta': 0.01,\n",
    "         'max_depth': 6, 'colsample_bytree': 0.3, 'subsample': 1.0,\n",
    "          'nthread':-1}\n",
    "#0.530461055876 \n",
    "\n",
    "#parameter 0.403202808141   0.539675800865 subsample 1.0 max_depth 6 colsample 0.3\n",
    "\n",
    "    #train input matrix\n",
    "xgb_train_data = xgb.DMatrix(x_train, y_train)\n",
    "xgb_test_data  = xgb.DMatrix(x_test)\n",
    "\n",
    "xgb_estimator = xgb.train(params, xgb_train_data, num_boost_round= 1954)\n",
    "\n",
    "\n",
    "train_pred=pd.DataFrame(xgb_estimator.predict(xgb_train_data))\n",
    "test_pred =pd.DataFrame(xgb_estimator.predict(xgb_test_data))\n",
    "\n",
    "submission_xg = pd.DataFrame(columns=['id','predict_0','predict_1','predict_2'])\n",
    "submission_xg['id']=test_df['id']\n",
    "submission_xg['predict_0']=test_pred.ix[:,0]\n",
    "submission_xg['predict_1']=test_pred.ix[:,1]\n",
    "submission_xg['predict_2']=test_pred.ix[:,2]\n",
    "submission_xg.to_csv('telstra_1954_6_1_03_f.csv',index=False)"
   ]
  },
  {
   "cell_type": "markdown",
   "metadata": {},
   "source": [
    "****************************************\n",
    "Random Forest\n",
    "****************************************"
   ]
  },
  {
   "cell_type": "code",
   "execution_count": null,
   "metadata": {
    "collapsed": false
   },
   "outputs": [],
   "source": [
    "#As a starting point, we will looks for a potential set of optimal parameters to train and test with\n",
    "\n",
    "#function to \n",
    "def rf_params(xt,yt):\n",
    "    param_grid ={ \"criterion\" :['gini','entropy'],\n",
    "              \"max_depth\": [1,2,3,4,5,6,7,8,9,10,11,12,13,14,15,16,17,18,19,20,21,22,23,24,25,26,27,28,29,30,31,32,\n",
    "                            33,34,35,36,37,38,39,40,41,42,43,44,45,46,47,48],\n",
    "              \"min_samples_split\" : [1,2,3,4,5,6,7,8,9,10,11,12,13,14,15,16,17,18,19,20,21,22,23,24,25,26,27,28,29,30],\n",
    "             \"min_samples_leaf\": [1,2],\n",
    "            }\n",
    "\n",
    "    rf=RandomForestClassifier()\n",
    "\n",
    "    grid=GridSearchCV(estimator=rf, param_grid=param_grid,scoring=\"log_loss\", n_jobs=-1, cv=5,)\n",
    "\n",
    "    grid_train = grid.fit(xt,yt)\n",
    "\n",
    "    print(grid.best_params_)\n",
    "\n",
    "rf_params(xt=x_testcv,yt=y_testcv)"
   ]
  },
  {
   "cell_type": "code",
   "execution_count": null,
   "metadata": {
    "collapsed": false
   },
   "outputs": [],
   "source": [
    "#As a starting point, we will looks for a potential set of optimal parameters to train and test with\n",
    "\n",
    "#function to \n",
    "def rf_params(xt,yt):\n",
    "    param_grid ={ \"criterion\" :['gini','entropy'],\n",
    "              \"max_depth\": [1,2,3,4,5,6,7,8,9,10,11,12,13,14,15,16,17,18,19,20,21,22,23,24,25,26,27,28,29,30,31,32,\n",
    "                            33,34,35,36,37,38,39,40,41,42,43,44,],\n",
    "              \"min_samples_split\" : [1,2,3,4,5,6,7,8,9,10,11,12,13,14,15,16,17,18,19,20,21,22,23,24,25,26,27,28,29,30],\n",
    "             \"min_samples_leaf\": [1,2,3,4,5,6,7,8,9,10,11,12],\n",
    "            }\n",
    "\n",
    "    rf=RandomForestClassifier()\n",
    "\n",
    "    grid=GridSearchCV(estimator=rf, param_grid=param_grid,scoring=\"log_loss\", n_jobs=-1, cv=5,)\n",
    "\n",
    "    grid_train = grid.fit(xt,yt)\n",
    "\n",
    "    print(grid.best_params_)\n",
    "\n",
    "rf_params(xt=x_testcv,yt=y_testcv)"
   ]
  },
  {
   "cell_type": "code",
   "execution_count": null,
   "metadata": {
    "collapsed": false
   },
   "outputs": [],
   "source": [
    "my_rf_model = RandomForestClassifier(n_jobs=-1, n_estimators=10000,criterion='entropy', max_depth= 47, \n",
    "                                     min_samples_leaf= 1, min_samples_split= 24)\n",
    "\n",
    "#{'max_depth': 19, 'min_samples_leaf': 1, 'criterion': 'gini', 'min_samples_split': 13}\n",
    "\n",
    "my_rf_model_fit = my_rf_model.fit(x_train, y_train)\n",
    "\n",
    "y_pred_train = pd.DataFrame(my_rf_model_fit.predict_proba(x_train))\n",
    "y_pred_test  = pd.DataFrame(my_rf_model_fit.predict_proba(x_test))\n",
    "\n",
    "#lloss_train = log_loss(y_train, y_pred_train)\n",
    "    \n",
    "#print(lloss_train)\n",
    "\n",
    "submission_rf = pd.DataFrame(columns=['id','predict_0','predict_1','predict_2'])\n",
    "submission_rf['id']=test_df['id']\n",
    "submission_rf['predict_0']=y_pred_test.ix[:,0]\n",
    "submission_rf['predict_1']=y_pred_test.ix[:,1]\n",
    "submission_rf['predict_2']=y_pred_test.ix[:,2]\n",
    "submission_rf.to_csv('telstra_rf_10000_entropy_47_1_24.csv',index=False)"
   ]
  },
  {
   "cell_type": "markdown",
   "metadata": {},
   "source": [
    "********************************\n",
    "svc\n",
    "********************************"
   ]
  },
  {
   "cell_type": "code",
   "execution_count": null,
   "metadata": {
    "collapsed": false
   },
   "outputs": [],
   "source": [
    "\n",
    "param_grid = {\n",
    "             'C': [0.001, 0.01, 0.1, 1, 10], 'gamma' : [0.001, 0.01, 0.1, 1]\n",
    "}\n",
    "\n",
    "grid_search=GridSearchCV(estimator=SVC(kernel='rbf',probability=True), param_grid=param_grid,scoring=\"log_loss\", cv=5)\n",
    "\n",
    "grid = grid_search.fit(x_traincv, y_traincv)\n",
    "\n",
    "print(grid.best_params_)"
   ]
  },
  {
   "cell_type": "code",
   "execution_count": null,
   "metadata": {
    "collapsed": false
   },
   "outputs": [],
   "source": [
    "\n",
    "from sklearn.svm import SVC\n",
    "\n",
    "my_SVC_model = SVC( probability=True, C= 10, gamma = 0.1)#, multi_class='crammer_singer')\n",
    "\n",
    "\n",
    "my_SVC_model_fit = my_SVC_model.fit(x_train, y_train)\n",
    "\n",
    "y_pred_train = pd.DataFrame(my_SVC_model_fit.predict_proba(x_train))\n",
    "y_pred_test  = pd.DataFrame(my_SVC_model_fit.predict_proba(x_test))\n",
    "\n",
    "#lloss_train = log_loss(y_train, y_pred_train)\n",
    "    \n",
    "#print(lloss_train)\n",
    "\n",
    "submission_SVC = pd.DataFrame(columns=['id','predict_0','predict_1','predict_2'])\n",
    "submission_SVC['id']=test_df['id']\n",
    "submission_SVC['predict_0']=y_pred_test.ix[:,0]\n",
    "submission_SVC['predict_1']=y_pred_test.ix[:,1]\n",
    "submission_SVC['predict_2']=y_pred_test.ix[:,2]\n",
    "submission_SVC.to_csv('telstra_SVC_2_26.csv',index=False)"
   ]
  },
  {
   "cell_type": "markdown",
   "metadata": {},
   "source": [
    "****************************\n",
    "     adaboost classifier\n",
    "****************************"
   ]
  },
  {
   "cell_type": "code",
   "execution_count": null,
   "metadata": {
    "collapsed": false
   },
   "outputs": [],
   "source": [
    "my_ada_model = AdaBoostClassifier(base_estimator=RandomForestClassifier(n_jobs=-1, n_estimators=1179,\n",
    "                                                                        criterion='gini', max_depth= 19, \n",
    "                                     min_samples_leaf= 1, min_samples_split= 13))\n",
    "\n",
    "my_ada_model_fit = my_ada_model.fit(x_train, y_train)\n",
    "\n",
    "y_pred_train = pd.DataFrame(my_ada_model_fit.predict_proba(x_train))\n",
    "y_pred_test  = pd.DataFrame(my_ada_model_fit.predict_proba(x_test))\n",
    "\n",
    "#lloss_train = log_loss(y_train, y_pred_train)\n",
    "    \n",
    "#print(lloss_train)\n",
    "\n",
    "submission_ada = pd.DataFrame(columns=['id','predict_0','predict_1','predict_2'])\n",
    "submission_ada['id']=test_df['id']\n",
    "submission_ada['predict_0']=y_pred_test.ix[:,0]\n",
    "submission_ada['predict_1']=y_pred_test.ix[:,1]\n",
    "submission_ada['predict_2']=y_pred_test.ix[:,2]\n",
    "submission_ada.to_csv('telstra_ada_default.v2.csv',index=False)"
   ]
  },
  {
   "cell_type": "markdown",
   "metadata": {},
   "source": [
    "*************************************\n",
    "stochastic gradient descent\n",
    "************************************"
   ]
  },
  {
   "cell_type": "code",
   "execution_count": null,
   "metadata": {
    "collapsed": false
   },
   "outputs": [],
   "source": [
    "\n",
    "param_grid = {\n",
    "    'penalty': ['l1', 'l2', 'elasticnet'],\n",
    "    'alpha': [0.001, 0.0001, 0.00001, 0.000001]\n",
    "}\n",
    "\n",
    "grid_search=GridSearchCV(estimator=SGDClassifier(loss='log'), param_grid=param_grid,scoring=\"log_loss\", cv=2)\n",
    "\n",
    "grid = grid_search.fit(x_traincv, y_traincv)\n",
    "\n",
    "print(grid.best_params_)"
   ]
  },
  {
   "cell_type": "code",
   "execution_count": null,
   "metadata": {
    "collapsed": false
   },
   "outputs": [],
   "source": [
    "from sklearn.linear_model import SGDClassifier\n",
    "\n",
    "my_sgd_model = SGDClassifier(loss='log',penalty='elasticnet',alpha= 0.001,n_iter=10000,n_jobs=-1,)\n",
    "\n",
    "#{'penalty': 'elasticnet', 'alpha': 0.001}\n",
    "\n",
    "my_sgd_model_fit = my_sgd_model.fit(x_train, y_train)\n",
    "\n",
    "y_pred_train = pd.DataFrame(my_sgd_model_fit.predict_proba(x_train))\n",
    "y_pred_test  = pd.DataFrame(my_sgd_model_fit.predict_proba(x_test))\n",
    "\n",
    "#lloss_train = log_loss(y_train, y_pred_train)\n",
    "    \n",
    "#print(lloss_train)\n",
    "\n",
    "submission_sgd = pd.DataFrame(columns=['id','predict_0','predict_1','predict_2'])\n",
    "submission_sgd['id']=test_df['id']\n",
    "submission_sgd['predict_0']=y_pred_test.ix[:,0]\n",
    "submission_sgd['predict_1']=y_pred_test.ix[:,1]\n",
    "submission_sgd['predict_2']=y_pred_test.ix[:,2]\n",
    "submission_sgd.to_csv('telstra_sgd_elasticnet_0002.csv',index=False)"
   ]
  },
  {
   "cell_type": "markdown",
   "metadata": {},
   "source": [
    "******************************\n",
    "Feature Importance\n",
    "******************************"
   ]
  },
  {
   "cell_type": "code",
   "execution_count": 42,
   "metadata": {
    "collapsed": false
   },
   "outputs": [
    {
     "data": {
      "text/plain": [
       "<matplotlib.figure.Figure at 0xaf3ea90>"
      ]
     },
     "metadata": {},
     "output_type": "display_data"
    },
    {
     "data": {
      "image/png": "[encoded data removed]",
      "text/plain": [
       "<matplotlib.figure.Figure at 0xaf3c320>"
      ]
     },
     "metadata": {},
     "output_type": "display_data"
    },
    {
     "data": {
      "image/png": "[encoded data removed]",
      "text/plain": [
       "<matplotlib.figure.Figure at 0x1cdff90f0>"
      ]
     },
     "metadata": {},
     "output_type": "display_data"
    }
   ],
   "source": [
    "#xgboost features\n",
    "#xgboost feature selection\n",
    "\n",
    "def ceate_feature_map(features):\n",
    "    outfile = open('xgb.fmap', 'w')\n",
    "    i = 0\n",
    "    for feat in features:\n",
    "        outfile.write('{0}\\t{1}\\tq\\n'.format(i, feat))\n",
    "        i = i + 1\n",
    "\n",
    "    outfile.close()\n",
    "\n",
    "def get_data():\n",
    "    tr = x_train\n",
    "\n",
    "    features = list(x_train.columns)\n",
    "\n",
    "    ytrain = y_train\n",
    "\n",
    "    xtrain = tr[features]\n",
    "\n",
    "    return features, xtrain, ytrain\n",
    "\n",
    "\n",
    "features, xtrain, ytrain = get_data()\n",
    "ceate_feature_map(features)\n",
    "\n",
    "xgb_params =  {'objective':'multi:softprob','eval_metric' : 'mlogloss', 'num_class':3,'eta': 0.01,\n",
    "         'subsample':1.0, 'max_depth':6, 'colsample_bytree':0.3,'nthread':-1}\n",
    "\n",
    "num_rounds = 2222222\n",
    "\n",
    "dtrain = xgb.DMatrix(xtrain, label=ytrain)\n",
    "gbdt = xgb.train(xgb_params, dtrain, num_rounds)\n",
    "\n",
    "importance = gbdt.get_fscore(fmap='xgb.fmap')\n",
    "importance = sorted(importance.items(), key=operator.itemgetter(1))\n",
    "\n",
    "df = pd.DataFrame(importance, columns=['feature', 'fscore'])\n",
    "df['fscore'] = df['fscore'] / df['fscore'].sum()\n",
    "\n",
    "plt.figure()\n",
    "df.plot()\n",
    "df.plot(kind='barh', x='feature', y='fscore', legend=False, figsize=(6, 10))\n",
    "plt.title('XGBoost Feature Importance')\n",
    "plt.xlabel('relative importance')\n",
    "plt.gcf().savefig('feature_importance_xgb.png')\n",
    "df.to_csv(\"xgb features.csv\")"
   ]
  }
 ],
 "metadata": {
  "kernelspec": {
   "display_name": "Python 3",
   "language": "python",
   "name": "python3"
  },
  "language_info": {
   "codemirror_mode": {
    "name": "ipython",
    "version": 3
   },
   "file_extension": ".py",
   "mimetype": "text/x-python",
   "name": "python",
   "nbconvert_exporter": "python",
   "pygments_lexer": "ipython3",
   "version": "3.5.1"
  }
 },
 "nbformat": 4,
 "nbformat_minor": 0
}
